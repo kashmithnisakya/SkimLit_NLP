{
 "cells": [
  {
   "cell_type": "code",
   "execution_count": 1,
   "metadata": {},
   "outputs": [],
   "source": [
    "import pandas as pd\n",
    "import numpy as np\n",
    "import matplotlib.pyplot as plt\n",
    "import os\n",
    "import tensorflow as tf\n",
    "from tensorflow.keras import layers\n",
    "import random"
   ]
  },
  {
   "cell_type": "markdown",
   "metadata": {},
   "source": [
    "#### Clone the repository"
   ]
  },
  {
   "cell_type": "code",
   "execution_count": 2,
   "metadata": {},
   "outputs": [],
   "source": [
    "# !git clone https://github.com/Franck-Dernoncourt/pubmed-rct.git"
   ]
  },
  {
   "cell_type": "markdown",
   "metadata": {},
   "source": [
    "#### Prepare datasets"
   ]
  },
  {
   "cell_type": "code",
   "execution_count": 3,
   "metadata": {},
   "outputs": [
    {
     "name": "stdout",
     "output_type": "stream",
     "text": [
      "pubmed-rct/PubMed_20k_RCT_numbers_replaced_with_at_sign/dev.txt\n",
      "pubmed-rct/PubMed_20k_RCT_numbers_replaced_with_at_sign/test.txt\n",
      "pubmed-rct/PubMed_20k_RCT_numbers_replaced_with_at_sign/train.txt\n"
     ]
    }
   ],
   "source": [
    "directory = 'pubmed-rct/PubMed_20k_RCT_numbers_replaced_with_at_sign/'\n",
    "file_paths = []\n",
    "\n",
    "for dirname, _, filenames in os.walk(directory):\n",
    "    for filename in filenames:\n",
    "        print(os.path.join(dirname, filename))\n",
    "        file_paths.append(os.path.join(dirname, filename))"
   ]
  },
  {
   "cell_type": "code",
   "execution_count": 4,
   "metadata": {},
   "outputs": [],
   "source": [
    "def load_txt_file(file_path):\n",
    "    with open(file_path, 'r') as f:\n",
    "        return f.readlines()"
   ]
  },
  {
   "cell_type": "code",
   "execution_count": 5,
   "metadata": {},
   "outputs": [],
   "source": [
    "train_article = load_txt_file(file_paths[2])\n",
    "test_article = load_txt_file(file_paths[1])\n",
    "val_abstract = load_txt_file(file_paths[0])"
   ]
  },
  {
   "cell_type": "code",
   "execution_count": 6,
   "metadata": {},
   "outputs": [],
   "source": [
    "def process_data(content):\n",
    "    abstract = []\n",
    "    line_count = 0\n",
    "    processed_data = []\n",
    "    for line in content:\n",
    "        if line.startswith('###'):\n",
    "            abstract_id = line[3:-1]\n",
    "        elif not line.isspace():\n",
    "            line_count += 1\n",
    "            splitted_line = line.split('\\t')\n",
    "            target = splitted_line[0]\n",
    "            text = splitted_line[1][:-1]\n",
    "            line_number = line_count\n",
    "            abstract.append({'id': abstract_id, 'line_number': line_number, 'target': target, 'text': text})\n",
    "        elif line.isspace():\n",
    "            for dictionary in abstract:\n",
    "                dictionary['total_lines'] = line_count\n",
    "                processed_data.append(dictionary)    \n",
    "            abstract = []\n",
    "            line_count = 0\n",
    "    return processed_data\n",
    "                "
   ]
  },
  {
   "cell_type": "code",
   "execution_count": 7,
   "metadata": {},
   "outputs": [],
   "source": [
    "train_samples = process_data(train_article)\n",
    "val_samples = process_data(val_abstract)\n",
    "test_samples = process_data(test_article)"
   ]
  },
  {
   "cell_type": "code",
   "execution_count": 8,
   "metadata": {},
   "outputs": [],
   "source": [
    "df_train = pd.DataFrame(train_samples)\n",
    "df_val = pd.DataFrame(val_samples)\n",
    "df_test = pd.DataFrame(test_samples) "
   ]
  },
  {
   "cell_type": "code",
   "execution_count": 9,
   "metadata": {},
   "outputs": [
    {
     "data": {
      "text/html": [
       "<div>\n",
       "<style scoped>\n",
       "    .dataframe tbody tr th:only-of-type {\n",
       "        vertical-align: middle;\n",
       "    }\n",
       "\n",
       "    .dataframe tbody tr th {\n",
       "        vertical-align: top;\n",
       "    }\n",
       "\n",
       "    .dataframe thead th {\n",
       "        text-align: right;\n",
       "    }\n",
       "</style>\n",
       "<table border=\"1\" class=\"dataframe\">\n",
       "  <thead>\n",
       "    <tr style=\"text-align: right;\">\n",
       "      <th></th>\n",
       "      <th>id</th>\n",
       "      <th>line_number</th>\n",
       "      <th>target</th>\n",
       "      <th>text</th>\n",
       "      <th>total_lines</th>\n",
       "    </tr>\n",
       "  </thead>\n",
       "  <tbody>\n",
       "    <tr>\n",
       "      <th>0</th>\n",
       "      <td>24293578</td>\n",
       "      <td>1</td>\n",
       "      <td>OBJECTIVE</td>\n",
       "      <td>To investigate the efficacy of @ weeks of dail...</td>\n",
       "      <td>12</td>\n",
       "    </tr>\n",
       "    <tr>\n",
       "      <th>1</th>\n",
       "      <td>24293578</td>\n",
       "      <td>2</td>\n",
       "      <td>METHODS</td>\n",
       "      <td>A total of @ patients with primary knee OA wer...</td>\n",
       "      <td>12</td>\n",
       "    </tr>\n",
       "    <tr>\n",
       "      <th>2</th>\n",
       "      <td>24293578</td>\n",
       "      <td>3</td>\n",
       "      <td>METHODS</td>\n",
       "      <td>Outcome measures included pain reduction and i...</td>\n",
       "      <td>12</td>\n",
       "    </tr>\n",
       "    <tr>\n",
       "      <th>3</th>\n",
       "      <td>24293578</td>\n",
       "      <td>4</td>\n",
       "      <td>METHODS</td>\n",
       "      <td>Pain was assessed using the visual analog pain...</td>\n",
       "      <td>12</td>\n",
       "    </tr>\n",
       "    <tr>\n",
       "      <th>4</th>\n",
       "      <td>24293578</td>\n",
       "      <td>5</td>\n",
       "      <td>METHODS</td>\n",
       "      <td>Secondary outcome measures included the Wester...</td>\n",
       "      <td>12</td>\n",
       "    </tr>\n",
       "    <tr>\n",
       "      <th>...</th>\n",
       "      <td>...</td>\n",
       "      <td>...</td>\n",
       "      <td>...</td>\n",
       "      <td>...</td>\n",
       "      <td>...</td>\n",
       "    </tr>\n",
       "    <tr>\n",
       "      <th>180035</th>\n",
       "      <td>26227186</td>\n",
       "      <td>8</td>\n",
       "      <td>RESULTS</td>\n",
       "      <td>For the absolute change in percent atheroma vo...</td>\n",
       "      <td>12</td>\n",
       "    </tr>\n",
       "    <tr>\n",
       "      <th>180036</th>\n",
       "      <td>26227186</td>\n",
       "      <td>9</td>\n",
       "      <td>RESULTS</td>\n",
       "      <td>For PAV , a significantly greater percentage o...</td>\n",
       "      <td>12</td>\n",
       "    </tr>\n",
       "    <tr>\n",
       "      <th>180037</th>\n",
       "      <td>26227186</td>\n",
       "      <td>10</td>\n",
       "      <td>RESULTS</td>\n",
       "      <td>Both strategies had acceptable side effect pro...</td>\n",
       "      <td>12</td>\n",
       "    </tr>\n",
       "    <tr>\n",
       "      <th>180038</th>\n",
       "      <td>26227186</td>\n",
       "      <td>11</td>\n",
       "      <td>CONCLUSIONS</td>\n",
       "      <td>Compared with standard statin monotherapy , th...</td>\n",
       "      <td>12</td>\n",
       "    </tr>\n",
       "    <tr>\n",
       "      <th>180039</th>\n",
       "      <td>26227186</td>\n",
       "      <td>12</td>\n",
       "      <td>CONCLUSIONS</td>\n",
       "      <td>( Plaque Regression With Cholesterol Absorptio...</td>\n",
       "      <td>12</td>\n",
       "    </tr>\n",
       "  </tbody>\n",
       "</table>\n",
       "<p>180040 rows × 5 columns</p>\n",
       "</div>"
      ],
      "text/plain": [
       "              id  line_number       target  \\\n",
       "0       24293578            1    OBJECTIVE   \n",
       "1       24293578            2      METHODS   \n",
       "2       24293578            3      METHODS   \n",
       "3       24293578            4      METHODS   \n",
       "4       24293578            5      METHODS   \n",
       "...          ...          ...          ...   \n",
       "180035  26227186            8      RESULTS   \n",
       "180036  26227186            9      RESULTS   \n",
       "180037  26227186           10      RESULTS   \n",
       "180038  26227186           11  CONCLUSIONS   \n",
       "180039  26227186           12  CONCLUSIONS   \n",
       "\n",
       "                                                     text  total_lines  \n",
       "0       To investigate the efficacy of @ weeks of dail...           12  \n",
       "1       A total of @ patients with primary knee OA wer...           12  \n",
       "2       Outcome measures included pain reduction and i...           12  \n",
       "3       Pain was assessed using the visual analog pain...           12  \n",
       "4       Secondary outcome measures included the Wester...           12  \n",
       "...                                                   ...          ...  \n",
       "180035  For the absolute change in percent atheroma vo...           12  \n",
       "180036  For PAV , a significantly greater percentage o...           12  \n",
       "180037  Both strategies had acceptable side effect pro...           12  \n",
       "180038  Compared with standard statin monotherapy , th...           12  \n",
       "180039  ( Plaque Regression With Cholesterol Absorptio...           12  \n",
       "\n",
       "[180040 rows x 5 columns]"
      ]
     },
     "execution_count": 9,
     "metadata": {},
     "output_type": "execute_result"
    }
   ],
   "source": [
    "df_train"
   ]
  },
  {
   "cell_type": "code",
   "execution_count": 10,
   "metadata": {},
   "outputs": [
    {
     "data": {
      "text/plain": [
       "5"
      ]
     },
     "execution_count": 10,
     "metadata": {},
     "output_type": "execute_result"
    }
   ],
   "source": [
    "number_of_classes = len(df_train['target'].unique())\n",
    "number_of_classes"
   ]
  },
  {
   "cell_type": "code",
   "execution_count": 11,
   "metadata": {},
   "outputs": [
    {
     "data": {
      "text/plain": [
       "target\n",
       "METHODS        59353\n",
       "RESULTS        57953\n",
       "CONCLUSIONS    27168\n",
       "BACKGROUND     21727\n",
       "OBJECTIVE      13839\n",
       "Name: count, dtype: int64"
      ]
     },
     "execution_count": 11,
     "metadata": {},
     "output_type": "execute_result"
    }
   ],
   "source": [
    "df_train['target'].value_counts()"
   ]
  },
  {
   "cell_type": "code",
   "execution_count": 12,
   "metadata": {},
   "outputs": [
    {
     "data": {
      "text/plain": [
       "<Axes: ylabel='Frequency'>"
      ]
     },
     "execution_count": 12,
     "metadata": {},
     "output_type": "execute_result"
    },
    {
     "data": {
      "image/png": "[encoded data removed]",
      "text/plain": [
       "<Figure size 640x480 with 1 Axes>"
      ]
     },
     "metadata": {},
     "output_type": "display_data"
    }
   ],
   "source": [
    "df_train['total_lines'].plot.hist()"
   ]
  },
  {
   "cell_type": "markdown",
   "metadata": {},
   "source": [
    "#### Get list in to lists"
   ]
  },
  {
   "cell_type": "code",
   "execution_count": 13,
   "metadata": {},
   "outputs": [],
   "source": [
    "training_sentences = df_train['text'].to_list()\n",
    "val_sentences = df_val['text'].to_list()\n",
    "test_sentences = df_test['text'].to_list()"
   ]
  },
  {
   "cell_type": "markdown",
   "metadata": {},
   "source": [
    "#### One hote encod the labels"
   ]
  },
  {
   "cell_type": "code",
   "execution_count": 14,
   "metadata": {},
   "outputs": [],
   "source": [
    "# one hot encode labels\n",
    "from sklearn.preprocessing import OneHotEncoder\n",
    "One_Hot_Encoder = OneHotEncoder(sparse_output=False)\n",
    "train_labels_one_hot = One_Hot_Encoder.fit_transform(df_train['target'].to_numpy().reshape(-1, 1))\n",
    "val_labels_one_hot = One_Hot_Encoder.transform(df_val['target'].to_numpy().reshape(-1, 1))\n",
    "test_labels_one_hot = One_Hot_Encoder.transform(df_test['target'].to_numpy().reshape(-1, 1))"
   ]
  },
  {
   "cell_type": "code",
   "execution_count": 15,
   "metadata": {},
   "outputs": [],
   "source": [
    "# Label encoding\n",
    "from sklearn.preprocessing import LabelEncoder\n",
    "Label_Encoder = LabelEncoder()\n",
    "train_labels_label_encode = Label_Encoder.fit_transform(df_train['target'].to_numpy())\n",
    "test_labels_label_encode = Label_Encoder.transform(df_test['target'].to_numpy())\n",
    "val_labels_label_encode = Label_Encoder.transform(df_val['target'].to_numpy())"
   ]
  },
  {
   "cell_type": "markdown",
   "metadata": {},
   "source": [
    "#### Helper functions"
   ]
  },
  {
   "cell_type": "code",
   "execution_count": 16,
   "metadata": {},
   "outputs": [],
   "source": [
    "import datetime\n",
    "from sklearn.metrics import accuracy_score, precision_recall_fscore_support"
   ]
  },
  {
   "cell_type": "code",
   "execution_count": 17,
   "metadata": {},
   "outputs": [],
   "source": [
    "def create_tensorboard_callback(dir_name, experiment_name):\n",
    "  log_dir = dir_name + \"/\" + experiment_name + \"/\" + datetime.datetime.now().strftime(\"%Y%m%d-%H%M%S\")\n",
    "  tensorboard_callback = tf.keras.callbacks.TensorBoard(\n",
    "      log_dir=log_dir\n",
    "  )\n",
    "  print(f\"Saving TensorBoard log files to: {log_dir}\")\n",
    "  return tensorboard_callback"
   ]
  },
  {
   "cell_type": "code",
   "execution_count": 18,
   "metadata": {},
   "outputs": [],
   "source": [
    "def calculate_results(y_true, y_pred):\n",
    "  # Calculate model accuracy\n",
    "  model_accuracy = accuracy_score(y_true, y_pred) * 100\n",
    "  # Calculate model precision, recall and f1 score using \"weighted average\n",
    "  model_precision, model_recall, model_f1, _ = precision_recall_fscore_support(y_true, y_pred, average=\"weighted\")\n",
    "  model_results = {\"accuracy\": model_accuracy,\n",
    "                  \"precision\": model_precision,\n",
    "                  \"recall\": model_recall,\n",
    "                  \"f1\": model_f1}\n",
    "  return model_results"
   ]
  },
  {
   "cell_type": "markdown",
   "metadata": {},
   "source": [
    "### Strating modeling experimnets\n",
    "\n",
    "#### Model 0: Baseline Model (Naivie Bayes with TF-IDF)"
   ]
  },
  {
   "cell_type": "code",
   "execution_count": 19,
   "metadata": {},
   "outputs": [],
   "source": [
    "from sklearn.feature_extraction.text import TfidfVectorizer\n",
    "from sklearn.naive_bayes import MultinomialNB\n",
    "from sklearn.pipeline import Pipeline"
   ]
  },
  {
   "cell_type": "code",
   "execution_count": 20,
   "metadata": {},
   "outputs": [],
   "source": [
    "model_0 = Pipeline([\n",
    "    ('tfidf', TfidfVectorizer()),\n",
    "    ('clf', MultinomialNB())\n",
    "])"
   ]
  },
  {
   "cell_type": "code",
   "execution_count": 21,
   "metadata": {},
   "outputs": [
    {
     "data": {
      "text/html": [
       "<style>#sk-container-id-1 {color: black;}#sk-container-id-1 pre{padding: 0;}#sk-container-id-1 div.sk-toggleable {background-color: white;}#sk-container-id-1 label.sk-toggleable__label {cursor: pointer;display: block;width: 100%;margin-bottom: 0;padding: 0.3em;box-sizing: border-box;text-align: center;}#sk-container-id-1 label.sk-toggleable__label-arrow:before {content: \"▸\";float: left;margin-right: 0.25em;color: #696969;}#sk-container-id-1 label.sk-toggleable__label-arrow:hover:before {color: black;}#sk-container-id-1 div.sk-estimator:hover label.sk-toggleable__label-arrow:before {color: black;}#sk-container-id-1 div.sk-toggleable__content {max-height: 0;max-width: 0;overflow: hidden;text-align: left;background-color: #f0f8ff;}#sk-container-id-1 div.sk-toggleable__content pre {margin: 0.2em;color: black;border-radius: 0.25em;background-color: #f0f8ff;}#sk-container-id-1 input.sk-toggleable__control:checked~div.sk-toggleable__content {max-height: 200px;max-width: 100%;overflow: auto;}#sk-container-id-1 input.sk-toggleable__control:checked~label.sk-toggleable__label-arrow:before {content: \"▾\";}#sk-container-id-1 div.sk-estimator input.sk-toggleable__control:checked~label.sk-toggleable__label {background-color: #d4ebff;}#sk-container-id-1 div.sk-label input.sk-toggleable__control:checked~label.sk-toggleable__label {background-color: #d4ebff;}#sk-container-id-1 input.sk-hidden--visually {border: 0;clip: rect(1px 1px 1px 1px);clip: rect(1px, 1px, 1px, 1px);height: 1px;margin: -1px;overflow: hidden;padding: 0;position: absolute;width: 1px;}#sk-container-id-1 div.sk-estimator {font-family: monospace;background-color: #f0f8ff;border: 1px dotted black;border-radius: 0.25em;box-sizing: border-box;margin-bottom: 0.5em;}#sk-container-id-1 div.sk-estimator:hover {background-color: #d4ebff;}#sk-container-id-1 div.sk-parallel-item::after {content: \"\";width: 100%;border-bottom: 1px solid gray;flex-grow: 1;}#sk-container-id-1 div.sk-label:hover label.sk-toggleable__label {background-color: #d4ebff;}#sk-container-id-1 div.sk-serial::before {content: \"\";position: absolute;border-left: 1px solid gray;box-sizing: border-box;top: 0;bottom: 0;left: 50%;z-index: 0;}#sk-container-id-1 div.sk-serial {display: flex;flex-direction: column;align-items: center;background-color: white;padding-right: 0.2em;padding-left: 0.2em;position: relative;}#sk-container-id-1 div.sk-item {position: relative;z-index: 1;}#sk-container-id-1 div.sk-parallel {display: flex;align-items: stretch;justify-content: center;background-color: white;position: relative;}#sk-container-id-1 div.sk-item::before, #sk-container-id-1 div.sk-parallel-item::before {content: \"\";position: absolute;border-left: 1px solid gray;box-sizing: border-box;top: 0;bottom: 0;left: 50%;z-index: -1;}#sk-container-id-1 div.sk-parallel-item {display: flex;flex-direction: column;z-index: 1;position: relative;background-color: white;}#sk-container-id-1 div.sk-parallel-item:first-child::after {align-self: flex-end;width: 50%;}#sk-container-id-1 div.sk-parallel-item:last-child::after {align-self: flex-start;width: 50%;}#sk-container-id-1 div.sk-parallel-item:only-child::after {width: 0;}#sk-container-id-1 div.sk-dashed-wrapped {border: 1px dashed gray;margin: 0 0.4em 0.5em 0.4em;box-sizing: border-box;padding-bottom: 0.4em;background-color: white;}#sk-container-id-1 div.sk-label label {font-family: monospace;font-weight: bold;display: inline-block;line-height: 1.2em;}#sk-container-id-1 div.sk-label-container {text-align: center;}#sk-container-id-1 div.sk-container {/* jupyter's `normalize.less` sets `[hidden] { display: none; }` but bootstrap.min.css set `[hidden] { display: none !important; }` so we also need the `!important` here to be able to override the default hidden behavior on the sphinx rendered scikit-learn.org. See: https://github.com/scikit-learn/scikit-learn/issues/21755 */display: inline-block !important;position: relative;}#sk-container-id-1 div.sk-text-repr-fallback {display: none;}</style><div id=\"sk-container-id-1\" class=\"sk-top-container\"><div class=\"sk-text-repr-fallback\"><pre>Pipeline(steps=[(&#x27;tfidf&#x27;, TfidfVectorizer()), (&#x27;clf&#x27;, MultinomialNB())])</pre><b>In a Jupyter environment, please rerun this cell to show the HTML representation or trust the notebook. <br />On GitHub, the HTML representation is unable to render, please try loading this page with nbviewer.org.</b></div><div class=\"sk-container\" hidden><div class=\"sk-item sk-dashed-wrapped\"><div class=\"sk-label-container\"><div class=\"sk-label sk-toggleable\"><input class=\"sk-toggleable__control sk-hidden--visually\" id=\"sk-estimator-id-1\" type=\"checkbox\" ><label for=\"sk-estimator-id-1\" class=\"sk-toggleable__label sk-toggleable__label-arrow\">Pipeline</label><div class=\"sk-toggleable__content\"><pre>Pipeline(steps=[(&#x27;tfidf&#x27;, TfidfVectorizer()), (&#x27;clf&#x27;, MultinomialNB())])</pre></div></div></div><div class=\"sk-serial\"><div class=\"sk-item\"><div class=\"sk-estimator sk-toggleable\"><input class=\"sk-toggleable__control sk-hidden--visually\" id=\"sk-estimator-id-2\" type=\"checkbox\" ><label for=\"sk-estimator-id-2\" class=\"sk-toggleable__label sk-toggleable__label-arrow\">TfidfVectorizer</label><div class=\"sk-toggleable__content\"><pre>TfidfVectorizer()</pre></div></div></div><div class=\"sk-item\"><div class=\"sk-estimator sk-toggleable\"><input class=\"sk-toggleable__control sk-hidden--visually\" id=\"sk-estimator-id-3\" type=\"checkbox\" ><label for=\"sk-estimator-id-3\" class=\"sk-toggleable__label sk-toggleable__label-arrow\">MultinomialNB</label><div class=\"sk-toggleable__content\"><pre>MultinomialNB()</pre></div></div></div></div></div></div></div>"
      ],
      "text/plain": [
       "Pipeline(steps=[('tfidf', TfidfVectorizer()), ('clf', MultinomialNB())])"
      ]
     },
     "execution_count": 21,
     "metadata": {},
     "output_type": "execute_result"
    }
   ],
   "source": [
    "model_0.fit(X=training_sentences, y=train_labels_label_encode)"
   ]
  },
  {
   "cell_type": "code",
   "execution_count": 22,
   "metadata": {},
   "outputs": [
    {
     "data": {
      "text/plain": [
       "0.7218323844829869"
      ]
     },
     "execution_count": 22,
     "metadata": {},
     "output_type": "execute_result"
    }
   ],
   "source": [
    "model_0.score(val_sentences, val_labels_label_encode)"
   ]
  },
  {
   "cell_type": "code",
   "execution_count": 23,
   "metadata": {},
   "outputs": [
    {
     "data": {
      "text/plain": [
       "array([4, 1, 3, ..., 4, 4, 1])"
      ]
     },
     "execution_count": 23,
     "metadata": {},
     "output_type": "execute_result"
    }
   ],
   "source": [
    "baseline_preds = model_0.predict(val_sentences)\n",
    "baseline_preds"
   ]
  },
  {
   "cell_type": "code",
   "execution_count": 24,
   "metadata": {},
   "outputs": [
    {
     "data": {
      "text/plain": [
       "{'accuracy': 72.1832384482987,\n",
       " 'precision': 0.7186466952323352,\n",
       " 'recall': 0.7218323844829869,\n",
       " 'f1': 0.6989250353450294}"
      ]
     },
     "execution_count": 24,
     "metadata": {},
     "output_type": "execute_result"
    }
   ],
   "source": [
    "baseline_results = calculate_results(y_true=val_labels_label_encode, y_pred=baseline_preds)\n",
    "baseline_results"
   ]
  },
  {
   "cell_type": "markdown",
   "metadata": {},
   "source": [
    "#### Prepare data for deep sequnce models"
   ]
  },
  {
   "cell_type": "code",
   "execution_count": 25,
   "metadata": {},
   "outputs": [
    {
     "data": {
      "text/plain": [
       "26.338269273494777"
      ]
     },
     "execution_count": 25,
     "metadata": {},
     "output_type": "execute_result"
    }
   ],
   "source": [
    "words_counts =  [len(sentence.split()) for sentence in training_sentences]\n",
    "mean_words_count = np.mean(words_counts)\n",
    "mean_words_count"
   ]
  },
  {
   "cell_type": "code",
   "execution_count": 26,
   "metadata": {},
   "outputs": [
    {
     "data": {
      "image/png": "[encoded data removed]",
      "text/plain": [
       "<Figure size 640x480 with 1 Axes>"
      ]
     },
     "metadata": {},
     "output_type": "display_data"
    }
   ],
   "source": [
    "plt.hist(words_counts)\n",
    "plt.show()"
   ]
  },
  {
   "cell_type": "code",
   "execution_count": 27,
   "metadata": {},
   "outputs": [
    {
     "data": {
      "text/plain": [
       "55"
      ]
     },
     "execution_count": 27,
     "metadata": {},
     "output_type": "execute_result"
    }
   ],
   "source": [
    "output_seq_len = int(np.percentile(words_counts, 95))\n",
    "output_seq_len"
   ]
  },
  {
   "cell_type": "markdown",
   "metadata": {},
   "source": [
    "#### Create tokenization and padding"
   ]
  },
  {
   "cell_type": "code",
   "execution_count": 28,
   "metadata": {},
   "outputs": [],
   "source": [
    "max_tokens = 68000  # form research paper"
   ]
  },
  {
   "cell_type": "code",
   "execution_count": 29,
   "metadata": {},
   "outputs": [],
   "source": [
    "textVectorization = layers.TextVectorization(max_tokens=max_tokens, output_sequence_length=output_seq_len)"
   ]
  },
  {
   "cell_type": "code",
   "execution_count": 30,
   "metadata": {},
   "outputs": [],
   "source": [
    "textVectorization.adapt(training_sentences)"
   ]
  },
  {
   "cell_type": "code",
   "execution_count": 31,
   "metadata": {},
   "outputs": [
    {
     "name": "stdout",
     "output_type": "stream",
     "text": [
      "Number of words in vocabulary: 64841\n"
     ]
    },
    {
     "data": {
      "text/plain": [
       "{'name': 'text_vectorization',\n",
       " 'trainable': True,\n",
       " 'batch_input_shape': (None,),\n",
       " 'dtype': 'string',\n",
       " 'max_tokens': 68000,\n",
       " 'standardize': 'lower_and_strip_punctuation',\n",
       " 'split': 'whitespace',\n",
       " 'ngrams': None,\n",
       " 'output_mode': 'int',\n",
       " 'output_sequence_length': 55,\n",
       " 'pad_to_max_tokens': False,\n",
       " 'sparse': False,\n",
       " 'ragged': False,\n",
       " 'vocabulary': None,\n",
       " 'idf_weights': None}"
      ]
     },
     "execution_count": 31,
     "metadata": {},
     "output_type": "execute_result"
    }
   ],
   "source": [
    "length_of_vocab = len(textVectorization.get_vocabulary())\n",
    "print('Number of words in vocabulary:', length_of_vocab)\n",
    "textVectorization.get_config()"
   ]
  },
  {
   "cell_type": "markdown",
   "metadata": {},
   "source": [
    "#### Create text embedding"
   ]
  },
  {
   "cell_type": "code",
   "execution_count": 32,
   "metadata": {},
   "outputs": [],
   "source": [
    "token_embed = layers.Embedding(input_dim=length_of_vocab, \n",
    "                               output_dim=128, \n",
    "                               mask_zero=True,\n",
    "                               name=\"token_embedding\")"
   ]
  },
  {
   "cell_type": "markdown",
   "metadata": {},
   "source": [
    "#### Create data pipeline"
   ]
  },
  {
   "cell_type": "code",
   "execution_count": 33,
   "metadata": {},
   "outputs": [],
   "source": [
    "def make_dataset(sentences,labels_one_hot):\n",
    "    dataset = tf.data.Dataset.from_tensor_slices((sentences, labels_one_hot))\n",
    "    dataset = dataset.cache()\n",
    "    # dataset = dataset.shuffle(buffer_size=1000)\n",
    "    dataset = dataset.batch(32)\n",
    "    dataset = dataset.prefetch(tf.data.AUTOTUNE)\n",
    "    return dataset"
   ]
  },
  {
   "cell_type": "code",
   "execution_count": 34,
   "metadata": {},
   "outputs": [],
   "source": [
    "train_dataset = make_dataset(training_sentences, train_labels_one_hot)\n",
    "val_dataset = make_dataset(val_sentences, val_labels_one_hot)\n",
    "test_dataset = make_dataset(test_sentences, test_labels_one_hot)"
   ]
  },
  {
   "cell_type": "code",
   "execution_count": 35,
   "metadata": {},
   "outputs": [
    {
     "data": {
      "text/plain": [
       "<PrefetchDataset element_spec=(TensorSpec(shape=(None,), dtype=tf.string, name=None), TensorSpec(shape=(None, 5), dtype=tf.float64, name=None))>"
      ]
     },
     "execution_count": 35,
     "metadata": {},
     "output_type": "execute_result"
    }
   ],
   "source": [
    "train_dataset"
   ]
  },
  {
   "cell_type": "markdown",
   "metadata": {},
   "source": [
    "#### Model 1: Conv1D with token embedding"
   ]
  },
  {
   "cell_type": "code",
   "execution_count": 36,
   "metadata": {},
   "outputs": [],
   "source": [
    "inputs = layers.Input(shape=(1,), dtype=tf.string)\n",
    "x = textVectorization(inputs)\n",
    "x = token_embed(x)\n",
    "x = layers.Conv1D(64, kernel_size=5, padding='same', activation='relu')(x)\n",
    "x = layers.GlobalAveragePooling1D()(x)\n",
    "outputs = layers.Dense(number_of_classes, activation='softmax')(x)\n",
    "model_1 = tf.keras.Model(inputs, outputs)"
   ]
  },
  {
   "cell_type": "code",
   "execution_count": 37,
   "metadata": {},
   "outputs": [],
   "source": [
    "model_1.compile(loss='categorical_crossentropy',\n",
    "                optimizer=tf.keras.optimizers.Adam(),\n",
    "                metrics=['accuracy'])"
   ]
  },
  {
   "cell_type": "code",
   "execution_count": 38,
   "metadata": {},
   "outputs": [
    {
     "name": "stdout",
     "output_type": "stream",
     "text": [
      "Model: \"model\"\n",
      "_________________________________________________________________\n",
      " Layer (type)                Output Shape              Param #   \n",
      "=================================================================\n",
      " input_1 (InputLayer)        [(None, 1)]               0         \n",
      "                                                                 \n",
      " text_vectorization (TextVec  (None, 55)               0         \n",
      " torization)                                                     \n",
      "                                                                 \n",
      " token_embedding (Embedding)  (None, 55, 128)          8299648   \n",
      "                                                                 \n",
      " conv1d (Conv1D)             (None, 55, 64)            41024     \n",
      "                                                                 \n",
      " global_average_pooling1d (G  (None, 64)               0         \n",
      " lobalAveragePooling1D)                                          \n",
      "                                                                 \n",
      " dense (Dense)               (None, 5)                 325       \n",
      "                                                                 \n",
      "=================================================================\n",
      "Total params: 8,340,997\n",
      "Trainable params: 8,340,997\n",
      "Non-trainable params: 0\n",
      "_________________________________________________________________\n"
     ]
    }
   ],
   "source": [
    "model_1.summary()"
   ]
  },
  {
   "cell_type": "code",
   "execution_count": 39,
   "metadata": {},
   "outputs": [
    {
     "name": "stdout",
     "output_type": "stream",
     "text": [
      "Saving TensorBoard log files to: tensorflow_hub/model_1_dense/20240218-181354\n",
      "Epoch 1/3\n",
      "5627/5627 [==============================] - 61s 10ms/step - loss: 0.6150 - accuracy: 0.7757 - val_loss: 0.5360 - val_accuracy: 0.8101\n",
      "Epoch 2/3\n",
      "5627/5627 [==============================] - 57s 10ms/step - loss: 0.4532 - accuracy: 0.8412 - val_loss: 0.5328 - val_accuracy: 0.8114\n",
      "Epoch 3/3\n",
      "5627/5627 [==============================] - 58s 10ms/step - loss: 0.3724 - accuracy: 0.8724 - val_loss: 0.5661 - val_accuracy: 0.8066\n"
     ]
    },
    {
     "data": {
      "text/plain": [
       "<keras.callbacks.History at 0x1764db01850>"
      ]
     },
     "execution_count": 39,
     "metadata": {},
     "output_type": "execute_result"
    }
   ],
   "source": [
    "model_1.fit(train_dataset,\n",
    "            epochs=3,\n",
    "            validation_data=val_dataset,\n",
    "            callbacks=[create_tensorboard_callback(dir_name=\"tensorflow_hub\", \n",
    "                                                    experiment_name=\"model_1_dense\")]) \n"
   ]
  },
  {
   "cell_type": "code",
   "execution_count": 40,
   "metadata": {},
   "outputs": [
    {
     "name": "stdout",
     "output_type": "stream",
     "text": [
      "  1/945 [..............................] - ETA: 19s - loss: 0.9193 - accuracy: 0.5938"
     ]
    },
    {
     "name": "stdout",
     "output_type": "stream",
     "text": [
      "945/945 [==============================] - 3s 4ms/step - loss: 0.5661 - accuracy: 0.8066\n"
     ]
    },
    {
     "data": {
      "text/plain": [
       "[0.566092312335968, 0.8066331148147583]"
      ]
     },
     "execution_count": 40,
     "metadata": {},
     "output_type": "execute_result"
    }
   ],
   "source": [
    "model_1.evaluate(val_dataset)"
   ]
  },
  {
   "cell_type": "code",
   "execution_count": 41,
   "metadata": {},
   "outputs": [
    {
     "name": "stdout",
     "output_type": "stream",
     "text": [
      "942/942 [==============================] - 3s 3ms/step\n"
     ]
    },
    {
     "data": {
      "text/plain": [
       "(array([[4.38701123e-01, 4.36170474e-02, 1.68012232e-01, 2.00679034e-01,\n",
       "         1.48990571e-01],\n",
       "        [8.40777159e-03, 5.47845801e-03, 5.84672689e-01, 6.30037673e-03,\n",
       "         3.95140737e-01],\n",
       "        [1.85785379e-04, 9.91846551e-04, 8.77603114e-01, 2.36434542e-04,\n",
       "         1.20982915e-01],\n",
       "        ...,\n",
       "        [8.24801537e-05, 2.00211108e-02, 5.84522844e-04, 3.64891384e-05,\n",
       "         9.79275346e-01],\n",
       "        [1.44127465e-03, 1.26528386e-02, 7.32202129e-03, 4.24751459e-04,\n",
       "         9.78159070e-01],\n",
       "        [2.31342763e-03, 2.69778073e-01, 3.94406691e-02, 1.85068394e-03,\n",
       "         6.86617196e-01]], dtype=float32),\n",
       " (30135, 5))"
      ]
     },
     "execution_count": 41,
     "metadata": {},
     "output_type": "execute_result"
    }
   ],
   "source": [
    "model_1_pred = model_1.predict(test_dataset)\n",
    "model_1_pred, model_1_pred.shape"
   ]
  },
  {
   "cell_type": "code",
   "execution_count": 42,
   "metadata": {},
   "outputs": [
    {
     "data": {
      "text/plain": [
       "<tf.Tensor: shape=(30135,), dtype=int64, numpy=array([0, 2, 2, ..., 4, 4, 4], dtype=int64)>"
      ]
     },
     "execution_count": 42,
     "metadata": {},
     "output_type": "execute_result"
    }
   ],
   "source": [
    "tf.argmax(model_1_pred, axis=1)"
   ]
  },
  {
   "cell_type": "code",
   "execution_count": 43,
   "metadata": {},
   "outputs": [
    {
     "data": {
      "text/plain": [
       "{'accuracy': 79.8340799734528,\n",
       " 'precision': 0.794251934163776,\n",
       " 'recall': 0.798340799734528,\n",
       " 'f1': 0.7954030776333202}"
      ]
     },
     "execution_count": 43,
     "metadata": {},
     "output_type": "execute_result"
    }
   ],
   "source": [
    "model_1_results = calculate_results(y_true=test_labels_label_encode, y_pred=tf.argmax(model_1_pred, axis=1))\n",
    "model_1_results"
   ]
  },
  {
   "cell_type": "markdown",
   "metadata": {},
   "source": [
    "#### Model 2: Feature extraction with pretrained token embedding"
   ]
  },
  {
   "cell_type": "code",
   "execution_count": 44,
   "metadata": {},
   "outputs": [],
   "source": [
    "import tensorflow_hub as hub\n",
    "\n",
    "embed = hub.KerasLayer(\"https://www.kaggle.com/models/google/universal-sentence-encoder/frameworks/TensorFlow2/variations/universal-sentence-encoder/versions/2\")\n",
    "embed.trainable = False"
   ]
  },
  {
   "cell_type": "code",
   "execution_count": 45,
   "metadata": {},
   "outputs": [
    {
     "name": "stdout",
     "output_type": "stream",
     "text": [
      "Random sentence: We prospectively enrolled @ patients with medial knee osteoarthritis and randomized them to use either a lateral wedge insole with subtalar strapping ( Group W ) , or a neutral insole with subtalar strapping ( Group N - control ) .\n",
      "Sentence after embedding: [[-0.03491127 -0.02011354 -0.06503173 -0.05177091 -0.04694232  0.06156898\n",
      "  -0.01729685 -0.05321388 -0.07403485  0.05590976  0.02400781  0.01153107\n",
      "  -0.00162346  0.0600105   0.05351781 -0.00549962 -0.06905939  0.01238001\n",
      "  -0.06335387 -0.04247694  0.06943972  0.03894179  0.01690862  0.01588769\n",
      "   0.03053452 -0.02221836  0.03739332  0.02537781  0.05919125  0.00670417\n",
      "   0.06608621  0.07633775  0.07276213  0.05264727 -0.04498719  0.03422077\n",
      "   0.04917441  0.07648072 -0.03069523 -0.06863178 -0.05313858  0.01834667\n",
      "   0.06437197  0.01453193  0.04830094  0.05682256  0.0549814   0.03057213\n",
      "  -0.01349834  0.05517586 -0.04063297 -0.01601344  0.0068494  -0.0073857\n",
      "   0.06251226 -0.06769309 -0.04144668 -0.00605352 -0.02996454  0.03773079\n",
      "  -0.05013758 -0.01047129  0.03638443  0.02184979  0.01362562  0.06549567\n",
      "   0.0363153  -0.06080088 -0.00829844 -0.04530793 -0.04460637  0.0147308\n",
      "  -0.01974459 -0.0251014  -0.05434037  0.0510221   0.00087333  0.0611927\n",
      "   0.03186799  0.01141431 -0.04902641 -0.019441    0.01347437 -0.06010841\n",
      "  -0.0302447   0.00147531 -0.05818965 -0.0617277   0.03028589 -0.01766188\n",
      "  -0.0168278   0.00010005 -0.0599434  -0.04453177 -0.01403361  0.03306757\n",
      "  -0.00270232 -0.03841523 -0.04879353 -0.03828789 -0.03141056 -0.03903056\n",
      "   0.07331088  0.05192753  0.00454919 -0.03353224  0.05713018  0.05233759\n",
      "  -0.02995386 -0.06475455  0.07603612  0.02534826  0.07292066 -0.00424812\n",
      "  -0.02218938 -0.03759491  0.04492139  0.03827686  0.02771074  0.00947513\n",
      "  -0.06240633 -0.03086989  0.0095014   0.04528845  0.07049891  0.04297907\n",
      "   0.01540495  0.04764916  0.04040017 -0.01589954 -0.05147117  0.07478558\n",
      "   0.07252864  0.04382444  0.00827745  0.04427012  0.02114379 -0.00329175\n",
      "  -0.02284369  0.00139849 -0.03249342  0.07438098 -0.02877175 -0.02703792\n",
      "  -0.0157282  -0.00927596  0.0257216  -0.06686226  0.04018062 -0.06339947\n",
      "   0.06596299 -0.03979499 -0.05560364  0.05465048  0.07563258  0.06266531\n",
      "  -0.02391937  0.06179134 -0.07418168 -0.06460193  0.03368    -0.05000036\n",
      "  -0.04945706  0.00957018  0.02562834  0.00121945 -0.04270581  0.03353668\n",
      "   0.02585745 -0.02657327 -0.0423461  -0.06723851 -0.01722632  0.03389981\n",
      "   0.03655108 -0.02300845  0.02473008  0.0697536  -0.01320976 -0.00317248\n",
      "  -0.03382602  0.04882815 -0.05144027 -0.03538604 -0.06999134 -0.01291952\n",
      "  -0.00768052 -0.01423166 -0.04883791  0.01572452 -0.05273067 -0.03373979\n",
      "   0.01190835  0.04926981  0.00883546  0.03872212 -0.04846251 -0.06681798\n",
      "  -0.03463478 -0.04976126 -0.01621721 -0.0767055  -0.06179803  0.06625028\n",
      "   0.04242994 -0.06355447  0.05711038 -0.04139569  0.0399159   0.06000099\n",
      "  -0.06642491 -0.07131453 -0.03262489  0.04639601 -0.06967427  0.01821905\n",
      "   0.06667037  0.02852998 -0.03743823  0.07690328  0.01889607 -0.05461726\n",
      "   0.06520902  0.00077966  0.07243772  0.07060859  0.06023944  0.06631589\n",
      "  -0.03270674 -0.02217695 -0.07175575  0.03574737 -0.05053809 -0.06975996\n",
      "   0.06606157 -0.07082105  0.01645164 -0.0516148   0.04706632 -0.03100581\n",
      "  -0.02134235  0.02182042 -0.03589869 -0.07313509 -0.06667642 -0.00217562\n",
      "  -0.0021161   0.02590003 -0.05562602 -0.07611708  0.04874538 -0.0006107\n",
      "  -0.04940519  0.03420585 -0.0186889  -0.0148822  -0.04278304  0.0537172\n",
      "   0.06979568  0.01314183  0.00292565 -0.00832727  0.06535532  0.03122452\n",
      "  -0.05069544 -0.0519765  -0.05922648  0.02336553 -0.01727282  0.01103475\n",
      "   0.02171571  0.02400316  0.0284039  -0.0004422  -0.03769489 -0.01498357\n",
      "   0.05946098  0.01151458  0.02661563 -0.02692444  0.00799131 -0.01063447\n",
      "   0.04498085  0.02719279 -0.05189163 -0.05566217 -0.04812571 -0.01306177\n",
      "   0.0352058  -0.02844759 -0.05095918 -0.05845333 -0.01992283  0.02419283\n",
      "   0.02103622 -0.06538475  0.05911924 -0.01844028 -0.04741358 -0.04130859\n",
      "  -0.00881798  0.00529794 -0.00245426 -0.07287665 -0.04511491  0.01914694\n",
      "   0.05247794 -0.01906271  0.00920434 -0.00811486 -0.06788352 -0.03830705\n",
      "   0.0584357  -0.03756789 -0.00803877 -0.04085114 -0.03647402 -0.03937691\n",
      "   0.07509045  0.04180256 -0.03447419 -0.06483352  0.02582872 -0.03929651\n",
      "  -0.0408398   0.04440156 -0.06917413 -0.06556424  0.06573863 -0.00426683\n",
      "  -0.03323117 -0.05729585  0.05809445  0.0721973  -0.00561273  0.07151705\n",
      "  -0.06272122  0.06211909 -0.04869046  0.00955424 -0.04567567  0.04254249\n",
      "   0.03255553 -0.01618887 -0.00394559  0.07491477  0.04483789  0.04071287\n",
      "   0.01539472  0.05281116 -0.04654915  0.04935711  0.04809799 -0.05549489\n",
      "   0.05489878 -0.02566056 -0.03989799 -0.03663293  0.03317921 -0.04147954\n",
      "   0.02312309 -0.03398668 -0.04006553 -0.04396306  0.07476535 -0.04098066\n",
      "   0.02702942  0.02076268 -0.01491455  0.0507549   0.00846883 -0.03942201\n",
      "  -0.03436442  0.05828529  0.04893023 -0.02161846  0.07059482 -0.05069766\n",
      "  -0.02104499 -0.05616485  0.07693812  0.0522129  -0.06635235  0.03831137\n",
      "   0.04024632 -0.05752983 -0.07166423 -0.05647947  0.01815422 -0.00798228\n",
      "  -0.01745222  0.02067616  0.01044494  0.01134543  0.03876855 -0.00679958\n",
      "   0.04104364 -0.0530712   0.03976381  0.03712814  0.07555117  0.01882219\n",
      "   0.05511376  0.04357453  0.01216633 -0.03362322  0.06922342 -0.01964939\n",
      "   0.02040986 -0.05474868 -0.05616299  0.01850662 -0.00460178  0.01417586\n",
      "   0.02961013  0.00125502  0.02554773 -0.03873482  0.05072967  0.06000131\n",
      "  -0.05099488 -0.07392347 -0.02604924 -0.02204802  0.06303589  0.02645561\n",
      "  -0.02112359 -0.00074072  0.00183875 -0.0655086  -0.04674672  0.01045215\n",
      "   0.0104497  -0.06687736  0.02046137 -0.03873933 -0.05034112  0.02955314\n",
      "  -0.06574261  0.06109499 -0.05358306  0.0193766  -0.04984999  0.0622806\n",
      "   0.02043298 -0.0318068  -0.05698026 -0.00927543  0.04431165  0.03228009\n",
      "   0.04760733 -0.05341159 -0.03262907  0.04127652  0.00296639 -0.04784524\n",
      "  -0.02882748  0.00212463  0.03055081  0.06267601  0.00311569  0.03479641\n",
      "  -0.03677915 -0.03451782 -0.02156384  0.03937527 -0.03084843  0.00479931\n",
      "   0.06149491 -0.04174327  0.06196902  0.06864996 -0.04118226  0.03839741\n",
      "   0.06713767  0.06759465  0.03591199  0.01551387 -0.0694844  -0.05594328\n",
      "   0.02888194 -0.01442827 -0.00474644 -0.00139106 -0.06557844  0.02390733\n",
      "   0.00871322 -0.04174973 -0.00136071 -0.01211794 -0.06379181  0.04947364\n",
      "   0.02314501 -0.07215019  0.00134656 -0.06185466  0.02468308 -0.01278242\n",
      "   0.02449452 -0.04283489  0.02677883 -0.0687298  -0.00375528 -0.06156193\n",
      "   0.06626587 -0.07641027 -0.05200225  0.03683837  0.04035468  0.06133074\n",
      "  -0.07308257 -0.00417539]]\n",
      "Length of sentence embedding: 512\n"
     ]
    }
   ],
   "source": [
    "# test the universal sentence encoder on a random sentence\n",
    "random_sentence = random.choice(training_sentences)\n",
    "print(f\"Random sentence: {random_sentence}\")\n",
    "random_embed = embed([random_sentence])\n",
    "print(f\"Sentence after embedding: {random_embed}\")\n",
    "print(f\"Length of sentence embedding: {len(random_embed[0])}\")"
   ]
  },
  {
   "cell_type": "code",
   "execution_count": 46,
   "metadata": {},
   "outputs": [],
   "source": [
    "input = layers.Input(shape=[], dtype=tf.string)\n",
    "x = embed(input)\n",
    "x = layers.Dense(128, activation='relu')(x)\n",
    "outputs = layers.Dense(number_of_classes, activation='softmax')(x)\n",
    "model_2 = tf.keras.Model(input, outputs)"
   ]
  },
  {
   "cell_type": "code",
   "execution_count": 47,
   "metadata": {},
   "outputs": [],
   "source": [
    "model_2.compile(loss='categorical_crossentropy',\n",
    "                optimizer=tf.keras.optimizers.Adam(),\n",
    "                metrics=['accuracy'])\n",
    "                "
   ]
  },
  {
   "cell_type": "code",
   "execution_count": 48,
   "metadata": {},
   "outputs": [
    {
     "name": "stdout",
     "output_type": "stream",
     "text": [
      "Model: \"model_1\"\n",
      "_________________________________________________________________\n",
      " Layer (type)                Output Shape              Param #   \n",
      "=================================================================\n",
      " input_2 (InputLayer)        [(None,)]                 0         \n",
      "                                                                 \n",
      " keras_layer (KerasLayer)    (None, 512)               256797824 \n",
      "                                                                 \n",
      " dense_1 (Dense)             (None, 128)               65664     \n",
      "                                                                 \n",
      " dense_2 (Dense)             (None, 5)                 645       \n",
      "                                                                 \n",
      "=================================================================\n",
      "Total params: 256,864,133\n",
      "Trainable params: 66,309\n",
      "Non-trainable params: 256,797,824\n",
      "_________________________________________________________________\n"
     ]
    }
   ],
   "source": [
    "model_2.summary()"
   ]
  },
  {
   "cell_type": "code",
   "execution_count": 49,
   "metadata": {},
   "outputs": [
    {
     "name": "stdout",
     "output_type": "stream",
     "text": [
      "Saving TensorBoard log files to: tensorflow_hub/model_2_dense/20240218-181705\n",
      "Epoch 1/3\n"
     ]
    },
    {
     "name": "stdout",
     "output_type": "stream",
     "text": [
      "5627/5627 [==============================] - 98s 17ms/step - loss: 0.7284 - accuracy: 0.7221 - val_loss: 0.6577 - val_accuracy: 0.7496\n",
      "Epoch 2/3\n",
      "5627/5627 [==============================] - 103s 18ms/step - loss: 0.6357 - accuracy: 0.7593 - val_loss: 0.6238 - val_accuracy: 0.7630\n",
      "Epoch 3/3\n",
      "5627/5627 [==============================] - 99s 18ms/step - loss: 0.6021 - accuracy: 0.7729 - val_loss: 0.6101 - val_accuracy: 0.7676\n"
     ]
    },
    {
     "data": {
      "text/plain": [
       "<keras.callbacks.History at 0x17654f53760>"
      ]
     },
     "execution_count": 49,
     "metadata": {},
     "output_type": "execute_result"
    }
   ],
   "source": [
    "model_2.fit(train_dataset,\n",
    "            epochs=3,\n",
    "            validation_data=val_dataset,\n",
    "            callbacks=[create_tensorboard_callback(dir_name=\"tensorflow_hub\", \n",
    "                                                    experiment_name=\"model_2_dense\")])"
   ]
  },
  {
   "cell_type": "code",
   "execution_count": 50,
   "metadata": {},
   "outputs": [
    {
     "name": "stdout",
     "output_type": "stream",
     "text": [
      "945/945 [==============================] - 14s 15ms/step - loss: 0.6101 - accuracy: 0.7676\n"
     ]
    },
    {
     "data": {
      "text/plain": [
       "[0.6100883483886719, 0.7676088809967041]"
      ]
     },
     "execution_count": 50,
     "metadata": {},
     "output_type": "execute_result"
    }
   ],
   "source": [
    "model_2.evaluate(val_dataset)"
   ]
  },
  {
   "cell_type": "code",
   "execution_count": 51,
   "metadata": {},
   "outputs": [
    {
     "name": "stdout",
     "output_type": "stream",
     "text": [
      "942/942 [==============================] - 14s 14ms/step\n"
     ]
    },
    {
     "data": {
      "text/plain": [
       "(array([[2.7972952e-01, 1.6362607e-01, 4.9876891e-02, 2.6945540e-01,\n",
       "         2.3731217e-01],\n",
       "        [2.8903502e-01, 1.7186375e-02, 2.9265913e-01, 2.9703084e-01,\n",
       "         1.0408858e-01],\n",
       "        [1.3130812e-04, 1.0419447e-03, 9.5581913e-01, 1.3793095e-04,\n",
       "         4.2869594e-02],\n",
       "        ...,\n",
       "        [1.0193544e-05, 7.7872304e-03, 9.2305371e-04, 2.3253449e-06,\n",
       "         9.9127722e-01],\n",
       "        [4.0998287e-03, 4.9860727e-02, 3.3382541e-03, 6.1422813e-04,\n",
       "         9.4208694e-01],\n",
       "        [1.6738292e-02, 7.6350266e-01, 1.0584867e-01, 1.2156521e-02,\n",
       "         1.0175384e-01]], dtype=float32),\n",
       " (30135, 5))"
      ]
     },
     "execution_count": 51,
     "metadata": {},
     "output_type": "execute_result"
    }
   ],
   "source": [
    "model_2_pred = model_2.predict(test_dataset)\n",
    "model_2_pred, model_2_pred.shape"
   ]
  },
  {
   "cell_type": "code",
   "execution_count": 52,
   "metadata": {},
   "outputs": [
    {
     "data": {
      "text/plain": [
       "<tf.Tensor: shape=(30135,), dtype=int64, numpy=array([0, 3, 2, ..., 4, 4, 1], dtype=int64)>"
      ]
     },
     "execution_count": 52,
     "metadata": {},
     "output_type": "execute_result"
    }
   ],
   "source": [
    "tf.argmax(model_2_pred, axis=1)"
   ]
  },
  {
   "cell_type": "code",
   "execution_count": 53,
   "metadata": {},
   "outputs": [
    {
     "data": {
      "text/plain": [
       "{'accuracy': 76.22697859631657,\n",
       " 'precision': 0.7588706761876524,\n",
       " 'recall': 0.7622697859631657,\n",
       " 'f1': 0.7577369711686476}"
      ]
     },
     "execution_count": 53,
     "metadata": {},
     "output_type": "execute_result"
    }
   ],
   "source": [
    "model_2_results = calculate_results(y_true=test_labels_label_encode, y_pred=tf.argmax(model_2_pred, axis=1))\n",
    "model_2_results"
   ]
  },
  {
   "cell_type": "markdown",
   "metadata": {},
   "source": [
    "#### Model 3: Conv1D with character embedding"
   ]
  },
  {
   "cell_type": "code",
   "execution_count": 54,
   "metadata": {},
   "outputs": [],
   "source": [
    "def split_chars(text):\n",
    "    return \" \".join(list(text))"
   ]
  },
  {
   "cell_type": "code",
   "execution_count": 55,
   "metadata": {},
   "outputs": [
    {
     "name": "stdout",
     "output_type": "stream",
     "text": [
      "Original text:\n",
      "To investigate the efficacy of @ weeks of daily low-dose oral prednisolone in improving pain , mobility , and systemic low-grade inflammation in the short term and whether the effect would be sustained at @ weeks in older adults with moderate to severe knee osteoarthritis ( OA ) .\n",
      "\n",
      "After spliting characters:\n",
      "T o   i n v e s t i g a t e   t h e   e f f i c a c y   o f   @   w e e k s   o f   d a i l y   l o w - d o s e   o r a l   p r e d n i s o l o n e   i n   i m p r o v i n g   p a i n   ,   m o b i l i t y   ,   a n d   s y s t e m i c   l o w - g r a d e   i n f l a m m a t i o n   i n   t h e   s h o r t   t e r m   a n d   w h e t h e r   t h e   e f f e c t   w o u l d   b e   s u s t a i n e d   a t   @   w e e k s   i n   o l d e r   a d u l t s   w i t h   m o d e r a t e   t o   s e v e r e   k n e e   o s t e o a r t h r i t i s   (   O A   )   .\n"
     ]
    }
   ],
   "source": [
    "train_chars = [split_chars(sentence) for sentence in training_sentences]\n",
    "val_chars = [split_chars(sentence) for sentence in val_sentences]\n",
    "test_chars = [split_chars(sentence) for sentence in test_sentences]\n",
    "print(f\"Original text:\\n{training_sentences[0]}\\n\\nAfter spliting characters:\\n{split_chars(training_sentences[0])}\")"
   ]
  },
  {
   "cell_type": "code",
   "execution_count": 56,
   "metadata": {},
   "outputs": [
    {
     "data": {
      "text/plain": [
       "149.3662574983337"
      ]
     },
     "execution_count": 56,
     "metadata": {},
     "output_type": "execute_result"
    }
   ],
   "source": [
    "char_lens = [len(sentence) for sentence in training_sentences]\n",
    "mean_char_len = np.mean(char_lens)\n",
    "mean_char_len"
   ]
  },
  {
   "cell_type": "code",
   "execution_count": 57,
   "metadata": {},
   "outputs": [
    {
     "data": {
      "image/png": "[encoded data removed]",
      "text/plain": [
       "<Figure size 640x480 with 1 Axes>"
      ]
     },
     "metadata": {},
     "output_type": "display_data"
    }
   ],
   "source": [
    "plt.hist(char_lens, bins=7)\n",
    "plt.show()"
   ]
  },
  {
   "cell_type": "code",
   "execution_count": 58,
   "metadata": {},
   "outputs": [
    {
     "data": {
      "text/plain": [
       "290"
      ]
     },
     "execution_count": 58,
     "metadata": {},
     "output_type": "execute_result"
    }
   ],
   "source": [
    "output_seq_len = int(np.percentile(char_lens, 95))\n",
    "output_seq_len"
   ]
  },
  {
   "cell_type": "code",
   "execution_count": 59,
   "metadata": {},
   "outputs": [
    {
     "data": {
      "text/plain": [
       "'abcdefghijklmnopqrstuvwxyz0123456789!\"#$%&\\'()*+,-./:;<=>?@[\\\\]^_`{|}~'"
      ]
     },
     "execution_count": 59,
     "metadata": {},
     "output_type": "execute_result"
    }
   ],
   "source": [
    "import string\n",
    "alphabet = string.ascii_lowercase + string.digits + string.punctuation\n",
    "alphabet"
   ]
  },
  {
   "cell_type": "code",
   "execution_count": 65,
   "metadata": {},
   "outputs": [],
   "source": [
    "NUM_CHAR_TOKENS = len(alphabet) + 2 # num characters in alphabet + space + OOV token\n",
    "char_vectorizer = layers.TextVectorization(max_tokens=NUM_CHAR_TOKENS,  \n",
    "                                    output_sequence_length=output_seq_len,\n",
    "                                    standardize=\"lower_and_strip_punctuation\")\n",
    "\n",
    "# Adapt character vectorizer to training characters\n",
    "char_vectorizer.adapt(train_chars)"
   ]
  },
  {
   "cell_type": "code",
   "execution_count": 66,
   "metadata": {},
   "outputs": [
    {
     "name": "stdout",
     "output_type": "stream",
     "text": [
      "Number of different characters in character vocab: 28\n",
      "5 most common characters: ['', '[UNK]', 'e', 't', 'i']\n",
      "5 least common characters: ['k', 'x', 'z', 'q', 'j']\n"
     ]
    }
   ],
   "source": [
    "# Check character vocabulary characteristics\n",
    "char_vocab = char_vectorizer.get_vocabulary()\n",
    "print(f\"Number of different characters in character vocab: {len(char_vocab)}\")\n",
    "print(f\"5 most common characters: {char_vocab[:5]}\")\n",
    "print(f\"5 least common characters: {char_vocab[-5:]}\")"
   ]
  },
  {
   "cell_type": "code",
   "execution_count": 67,
   "metadata": {},
   "outputs": [
    {
     "name": "stdout",
     "output_type": "stream",
     "text": [
      "Charified text (before vectorization and embedding):\n",
      "N o   s i g n i f i c a n t   d i f f e r e n c e s   w e r e   f o u n d   f o r   a n y   o f   t h e   p a t i e n t s   '   c l i n i c a l   o u t c o m e   m e a s u r e m e n t s   b e t w e e n   t h e   t w o   p r o c e d u r e s   .\n",
      "\n",
      "Embedded chars (after vectorization and embedding):\n",
      "[[[ 0.01083639 -0.03292844  0.01420898 ... -0.00697983  0.03239503\n",
      "    0.04638189]\n",
      "  [-0.02739674 -0.03560651 -0.04301229 ... -0.03916945 -0.03103626\n",
      "   -0.0483335 ]\n",
      "  [ 0.01662847  0.02923331 -0.04539893 ... -0.0247741  -0.00150668\n",
      "    0.01333559]\n",
      "  ...\n",
      "  [-0.03304176  0.04736659  0.00879342 ...  0.01548091  0.03071511\n",
      "   -0.00090946]\n",
      "  [-0.03304176  0.04736659  0.00879342 ...  0.01548091  0.03071511\n",
      "   -0.00090946]\n",
      "  [-0.03304176  0.04736659  0.00879342 ...  0.01548091  0.03071511\n",
      "   -0.00090946]]]\n",
      "\n",
      "Character embedding shape: (1, 290, 25)\n"
     ]
    }
   ],
   "source": [
    "# Create char embedding layer\n",
    "char_embed = layers.Embedding(input_dim=NUM_CHAR_TOKENS, # number of different characters\n",
    "                              output_dim=25, # embedding dimension of each character (same as Figure 1 in https://arxiv.org/pdf/1612.05251.pdf)\n",
    "                              mask_zero=False, # don't use masks (this messes up model_5 if set to True)\n",
    "                              name=\"char_embed\")\n",
    "\n",
    "# Test out character embedding layer\n",
    "random_train_chars = random.choice(train_chars)\n",
    "print(f\"Charified text (before vectorization and embedding):\\n{random_train_chars}\\n\")\n",
    "char_embed_example = char_embed(char_vectorizer([random_train_chars]))\n",
    "print(f\"Embedded chars (after vectorization and embedding):\\n{char_embed_example}\\n\")\n",
    "print(f\"Character embedding shape: {char_embed_example.shape}\")"
   ]
  },
  {
   "cell_type": "code",
   "execution_count": 68,
   "metadata": {},
   "outputs": [],
   "source": [
    "# Make Conv1D on chars only\n",
    "inputs = layers.Input(shape=(1,), dtype=\"string\")\n",
    "char_vectors = char_vectorizer(inputs)\n",
    "char_embeddings = char_embed(char_vectors)\n",
    "x = layers.Conv1D(64, kernel_size=5, padding=\"same\", activation=\"relu\")(char_embeddings)\n",
    "x = layers.GlobalMaxPool1D()(x)\n",
    "outputs = layers.Dense(number_of_classes, activation=\"softmax\")(x)\n",
    "model_3 = tf.keras.Model(inputs=inputs,\n",
    "                         outputs=outputs,\n",
    "                         name=\"model_3_conv1D_char_embedding\")\n",
    "\n",
    "# Compile model\n",
    "model_3.compile(loss=\"categorical_crossentropy\",\n",
    "                optimizer=tf.keras.optimizers.Adam(),\n",
    "                metrics=[\"accuracy\"])"
   ]
  },
  {
   "cell_type": "code",
   "execution_count": 69,
   "metadata": {},
   "outputs": [
    {
     "name": "stdout",
     "output_type": "stream",
     "text": [
      "Model: \"model_3_conv1D_char_embedding\"\n",
      "_________________________________________________________________\n",
      " Layer (type)                Output Shape              Param #   \n",
      "=================================================================\n",
      " input_3 (InputLayer)        [(None, 1)]               0         \n",
      "                                                                 \n",
      " text_vectorization_1 (TextV  (None, 290)              0         \n",
      " ectorization)                                                   \n",
      "                                                                 \n",
      " char_embed (Embedding)      (None, 290, 25)           1750      \n",
      "                                                                 \n",
      " conv1d_1 (Conv1D)           (None, 290, 64)           8064      \n",
      "                                                                 \n",
      " global_max_pooling1d (Globa  (None, 64)               0         \n",
      " lMaxPooling1D)                                                  \n",
      "                                                                 \n",
      " dense_3 (Dense)             (None, 5)                 325       \n",
      "                                                                 \n",
      "=================================================================\n",
      "Total params: 10,139\n",
      "Trainable params: 10,139\n",
      "Non-trainable params: 0\n",
      "_________________________________________________________________\n"
     ]
    }
   ],
   "source": [
    "model_3.summary()"
   ]
  },
  {
   "cell_type": "code",
   "execution_count": 70,
   "metadata": {},
   "outputs": [
    {
     "data": {
      "text/plain": [
       "<PrefetchDataset element_spec=(TensorSpec(shape=(None,), dtype=tf.string, name=None), TensorSpec(shape=(None, 5), dtype=tf.float64, name=None))>"
      ]
     },
     "execution_count": 70,
     "metadata": {},
     "output_type": "execute_result"
    }
   ],
   "source": [
    "# Create char datasets\n",
    "train_char_dataset = tf.data.Dataset.from_tensor_slices((train_chars, train_labels_one_hot)).batch(32).prefetch(tf.data.AUTOTUNE)\n",
    "val_char_dataset = tf.data.Dataset.from_tensor_slices((val_chars, val_labels_one_hot)).batch(32).prefetch(tf.data.AUTOTUNE)\n",
    "\n",
    "train_char_dataset"
   ]
  },
  {
   "cell_type": "code",
   "execution_count": 71,
   "metadata": {},
   "outputs": [
    {
     "name": "stdout",
     "output_type": "stream",
     "text": [
      "Epoch 1/3\n",
      "562/562 [==============================] - 5s 7ms/step - loss: 1.2781 - accuracy: 0.4793 - val_loss: 1.0543 - val_accuracy: 0.5795\n",
      "Epoch 2/3\n",
      "562/562 [==============================] - 4s 7ms/step - loss: 1.0212 - accuracy: 0.5866 - val_loss: 0.9566 - val_accuracy: 0.6223\n",
      "Epoch 3/3\n",
      "562/562 [==============================] - 4s 7ms/step - loss: 0.9433 - accuracy: 0.6268 - val_loss: 0.8882 - val_accuracy: 0.6619\n"
     ]
    }
   ],
   "source": [
    "# Fit the model on chars only\n",
    "model_3_history = model_3.fit(train_char_dataset,\n",
    "                              steps_per_epoch=int(0.1 * len(train_char_dataset)),\n",
    "                              epochs=3,\n",
    "                              validation_data=val_char_dataset,\n",
    "                              validation_steps=int(0.1 * len(val_char_dataset)))"
   ]
  },
  {
   "cell_type": "code",
   "execution_count": 72,
   "metadata": {},
   "outputs": [
    {
     "name": "stdout",
     "output_type": "stream",
     "text": [
      "945/945 [==============================] - 5s 5ms/step - loss: 0.9055 - accuracy: 0.6456\n"
     ]
    },
    {
     "data": {
      "text/plain": [
       "[0.9054731726646423, 0.6456043720245361]"
      ]
     },
     "execution_count": 72,
     "metadata": {},
     "output_type": "execute_result"
    }
   ],
   "source": [
    "model_3.evaluate(val_char_dataset)"
   ]
  },
  {
   "cell_type": "code",
   "execution_count": 73,
   "metadata": {},
   "outputs": [
    {
     "name": "stdout",
     "output_type": "stream",
     "text": [
      "945/945 [==============================] - 4s 4ms/step\n"
     ]
    },
    {
     "data": {
      "text/plain": [
       "array([[0.08463197, 0.36894628, 0.11018585, 0.30872953, 0.12750626],\n",
       "       [0.2584197 , 0.38576788, 0.01412116, 0.25400147, 0.08768976],\n",
       "       [0.10014004, 0.1813488 , 0.26682115, 0.3775142 , 0.07417577],\n",
       "       ...,\n",
       "       [0.01516496, 0.04893037, 0.12364849, 0.0268842 , 0.78537196],\n",
       "       [0.03185086, 0.07078984, 0.3391246 , 0.038053  , 0.5201818 ],\n",
       "       [0.46315247, 0.34073672, 0.07157793, 0.10350416, 0.02102875]],\n",
       "      dtype=float32)"
      ]
     },
     "execution_count": 73,
     "metadata": {},
     "output_type": "execute_result"
    }
   ],
   "source": [
    "model_3_pred_probs = model_3.predict(val_char_dataset)\n",
    "model_3_pred_probs"
   ]
  },
  {
   "cell_type": "code",
   "execution_count": 74,
   "metadata": {},
   "outputs": [
    {
     "data": {
      "text/plain": [
       "<tf.Tensor: shape=(30212,), dtype=int64, numpy=array([1, 1, 3, ..., 4, 4, 0], dtype=int64)>"
      ]
     },
     "execution_count": 74,
     "metadata": {},
     "output_type": "execute_result"
    }
   ],
   "source": [
    "model_3_preds = tf.argmax(model_3_pred_probs, axis=1)\n",
    "model_3_preds"
   ]
  },
  {
   "cell_type": "code",
   "execution_count": 75,
   "metadata": {},
   "outputs": [
    {
     "data": {
      "text/plain": [
       "{'accuracy': 64.56043956043956,\n",
       " 'precision': 0.6373620635444559,\n",
       " 'recall': 0.6456043956043956,\n",
       " 'f1': 0.6346330089657783}"
      ]
     },
     "execution_count": 75,
     "metadata": {},
     "output_type": "execute_result"
    }
   ],
   "source": [
    "model_3_results = calculate_results(y_true=val_labels_label_encode,\n",
    "                                        y_pred=model_3_preds)\n",
    "model_3_results"
   ]
  },
  {
   "cell_type": "markdown",
   "metadata": {},
   "source": [
    "#### Model 4: Combining pretrained token embedding and character embedding (hybrid embedding layer)"
   ]
  },
  {
   "cell_type": "code",
   "execution_count": 76,
   "metadata": {},
   "outputs": [],
   "source": [
    "# 1. Setup token inputs/model\n",
    "token_inputs = layers.Input(shape=[], dtype=tf.string, name=\"token_input\")\n",
    "token_embeddings = embed(token_inputs)\n",
    "token_output = layers.Dense(128, activation=\"relu\")(token_embeddings)\n",
    "token_model = tf.keras.Model(inputs=token_inputs,\n",
    "                             outputs=token_output)\n",
    "\n",
    "# 2. Setup char inputs/model\n",
    "char_inputs = layers.Input(shape=(1,), dtype=tf.string, name=\"char_input\")\n",
    "char_vectors = char_vectorizer(char_inputs)\n",
    "char_embeddings = char_embed(char_vectors)\n",
    "char_bi_lstm = layers.Bidirectional(layers.LSTM(25))(char_embeddings) # bi-LSTM shown in Figure 1 of https://arxiv.org/pdf/1612.05251.pdf\n",
    "char_model = tf.keras.Model(inputs=char_inputs,\n",
    "                            outputs=char_bi_lstm)\n",
    "\n",
    "# 3. Concatenate token and char inputs (create hybrid token embedding)\n",
    "token_char_concat = layers.Concatenate(name=\"token_char_hybrid\")([token_model.output, \n",
    "                                                                  char_model.output])\n",
    "\n",
    "# 4. Create output layers - addition of dropout discussed in 4.2 of https://arxiv.org/pdf/1612.05251.pdf\n",
    "combined_dropout = layers.Dropout(0.5)(token_char_concat)\n",
    "combined_dense = layers.Dense(200, activation=\"relu\")(combined_dropout) # slightly different to Figure 1 due to different shapes of token/char embedding layers\n",
    "final_dropout = layers.Dropout(0.5)(combined_dense)\n",
    "output_layer = layers.Dense(number_of_classes, activation=\"softmax\")(final_dropout)\n",
    "\n",
    "# 5. Construct model with char and token inputs\n",
    "model_4 = tf.keras.Model(inputs=[token_model.input, char_model.input],\n",
    "                         outputs=output_layer,\n",
    "                         name=\"model_4_token_and_char_embeddings\")"
   ]
  },
  {
   "cell_type": "code",
   "execution_count": 77,
   "metadata": {},
   "outputs": [
    {
     "name": "stdout",
     "output_type": "stream",
     "text": [
      "Model: \"model_4_token_and_char_embeddings\"\n",
      "__________________________________________________________________________________________________\n",
      " Layer (type)                   Output Shape         Param #     Connected to                     \n",
      "==================================================================================================\n",
      " char_input (InputLayer)        [(None, 1)]          0           []                               \n",
      "                                                                                                  \n",
      " token_input (InputLayer)       [(None,)]            0           []                               \n",
      "                                                                                                  \n",
      " text_vectorization_1 (TextVect  (None, 290)         0           ['char_input[0][0]']             \n",
      " orization)                                                                                       \n",
      "                                                                                                  \n",
      " keras_layer (KerasLayer)       (None, 512)          256797824   ['token_input[0][0]']            \n",
      "                                                                                                  \n",
      " char_embed (Embedding)         (None, 290, 25)      1750        ['text_vectorization_1[1][0]']   \n",
      "                                                                                                  \n",
      " dense_4 (Dense)                (None, 128)          65664       ['keras_layer[1][0]']            \n",
      "                                                                                                  \n",
      " bidirectional (Bidirectional)  (None, 50)           10200       ['char_embed[1][0]']             \n",
      "                                                                                                  \n",
      " token_char_hybrid (Concatenate  (None, 178)         0           ['dense_4[0][0]',                \n",
      " )                                                                'bidirectional[0][0]']          \n",
      "                                                                                                  \n",
      " dropout (Dropout)              (None, 178)          0           ['token_char_hybrid[0][0]']      \n",
      "                                                                                                  \n",
      " dense_5 (Dense)                (None, 200)          35800       ['dropout[0][0]']                \n",
      "                                                                                                  \n",
      " dropout_1 (Dropout)            (None, 200)          0           ['dense_5[0][0]']                \n",
      "                                                                                                  \n",
      " dense_6 (Dense)                (None, 5)            1005        ['dropout_1[0][0]']              \n",
      "                                                                                                  \n",
      "==================================================================================================\n",
      "Total params: 256,912,243\n",
      "Trainable params: 114,419\n",
      "Non-trainable params: 256,797,824\n",
      "__________________________________________________________________________________________________\n"
     ]
    }
   ],
   "source": [
    "model_4.summary()"
   ]
  },
  {
   "cell_type": "code",
   "execution_count": 78,
   "metadata": {},
   "outputs": [
    {
     "data": {
      "image/png": "[encoded data removed]",
      "text/plain": [
       "<IPython.core.display.Image object>"
      ]
     },
     "execution_count": 78,
     "metadata": {},
     "output_type": "execute_result"
    }
   ],
   "source": [
    "from tensorflow.keras.utils import plot_model\n",
    "plot_model(model_4)"
   ]
  },
  {
   "cell_type": "code",
   "execution_count": 79,
   "metadata": {},
   "outputs": [],
   "source": [
    "model_4.compile(loss=\"categorical_crossentropy\",\n",
    "                optimizer=tf.keras.optimizers.Adam(), # section 4.2 of https://arxiv.org/pdf/1612.05251.pdf mentions using SGD but we'll stick with Adam\n",
    "                metrics=[\"accuracy\"])"
   ]
  },
  {
   "cell_type": "code",
   "execution_count": 80,
   "metadata": {},
   "outputs": [],
   "source": [
    "train_char_token_data = tf.data.Dataset.from_tensor_slices((training_sentences, train_chars)) # make data\n",
    "train_char_token_labels = tf.data.Dataset.from_tensor_slices(train_labels_one_hot) # make labels\n",
    "train_char_token_dataset = tf.data.Dataset.zip((train_char_token_data, train_char_token_labels)) # combine data and labels\n",
    "\n",
    "# Prefetch and batch train data\n",
    "train_char_token_dataset = train_char_token_dataset.batch(32).prefetch(tf.data.AUTOTUNE) \n",
    "\n",
    "# Repeat same steps validation data\n",
    "val_char_token_data = tf.data.Dataset.from_tensor_slices((val_sentences, val_chars))\n",
    "val_char_token_labels = tf.data.Dataset.from_tensor_slices(val_labels_one_hot)\n",
    "val_char_token_dataset = tf.data.Dataset.zip((val_char_token_data, val_char_token_labels))\n",
    "val_char_token_dataset = val_char_token_dataset.batch(32).prefetch(tf.data.AUTOTUNE)"
   ]
  },
  {
   "cell_type": "code",
   "execution_count": 81,
   "metadata": {},
   "outputs": [
    {
     "data": {
      "text/plain": [
       "(<PrefetchDataset element_spec=((TensorSpec(shape=(None,), dtype=tf.string, name=None), TensorSpec(shape=(None,), dtype=tf.string, name=None)), TensorSpec(shape=(None, 5), dtype=tf.float64, name=None))>,\n",
       " <PrefetchDataset element_spec=((TensorSpec(shape=(None,), dtype=tf.string, name=None), TensorSpec(shape=(None,), dtype=tf.string, name=None)), TensorSpec(shape=(None, 5), dtype=tf.float64, name=None))>)"
      ]
     },
     "execution_count": 81,
     "metadata": {},
     "output_type": "execute_result"
    }
   ],
   "source": [
    "# Check out training char and token embedding dataset\n",
    "train_char_token_dataset, val_char_token_dataset"
   ]
  },
  {
   "cell_type": "code",
   "execution_count": 82,
   "metadata": {},
   "outputs": [
    {
     "name": "stdout",
     "output_type": "stream",
     "text": [
      "Epoch 1/3\n",
      "562/562 [==============================] - 27s 42ms/step - loss: 0.9779 - accuracy: 0.6097 - val_loss: 0.7840 - val_accuracy: 0.7015\n",
      "Epoch 2/3\n",
      "562/562 [==============================] - 21s 38ms/step - loss: 0.7909 - accuracy: 0.6950 - val_loss: 0.7119 - val_accuracy: 0.7314\n",
      "Epoch 3/3\n",
      "562/562 [==============================] - 22s 39ms/step - loss: 0.7664 - accuracy: 0.7032 - val_loss: 0.6888 - val_accuracy: 0.7347\n"
     ]
    }
   ],
   "source": [
    "\n",
    "# Fit the model on tokens and chars\n",
    "model_4_history = model_4.fit(train_char_token_dataset, # train on dataset of token and characters\n",
    "                              steps_per_epoch=int(0.1 * len(train_char_token_dataset)),\n",
    "                              epochs=3,\n",
    "                              validation_data=val_char_token_dataset,\n",
    "                              validation_steps=int(0.1 * len(val_char_token_dataset)))"
   ]
  },
  {
   "cell_type": "code",
   "execution_count": 83,
   "metadata": {},
   "outputs": [
    {
     "name": "stdout",
     "output_type": "stream",
     "text": [
      "945/945 [==============================] - 24s 26ms/step - loss: 0.6949 - accuracy: 0.7332\n"
     ]
    },
    {
     "data": {
      "text/plain": [
       "[0.6948732137680054, 0.7331523895263672]"
      ]
     },
     "execution_count": 83,
     "metadata": {},
     "output_type": "execute_result"
    }
   ],
   "source": [
    "model_4.evaluate(val_char_token_dataset)"
   ]
  },
  {
   "cell_type": "code",
   "execution_count": 84,
   "metadata": {},
   "outputs": [
    {
     "name": "stdout",
     "output_type": "stream",
     "text": [
      "945/945 [==============================] - 27s 28ms/step\n"
     ]
    },
    {
     "data": {
      "text/plain": [
       "array([[3.4086174e-01, 4.6700937e-01, 2.2829184e-03, 1.8303744e-01,\n",
       "        6.8085706e-03],\n",
       "       [3.3590260e-01, 4.7154552e-01, 1.9872829e-03, 1.8918300e-01,\n",
       "        1.3815673e-03],\n",
       "       [2.7984208e-01, 1.5129003e-01, 3.4899753e-02, 4.9831223e-01,\n",
       "        3.5655875e-02],\n",
       "       ...,\n",
       "       [3.8822027e-04, 4.5418227e-03, 4.4779867e-02, 1.1532297e-04,\n",
       "        9.5017469e-01],\n",
       "       [8.0989795e-03, 7.7665143e-02, 2.1974893e-01, 3.6402561e-03,\n",
       "        6.9084668e-01],\n",
       "       [2.2127067e-01, 4.2667317e-01, 2.4213880e-01, 3.2694619e-02,\n",
       "        7.7222794e-02]], dtype=float32)"
      ]
     },
     "execution_count": 84,
     "metadata": {},
     "output_type": "execute_result"
    }
   ],
   "source": [
    "model_4_pred_probs = model_4.predict(val_char_token_dataset)\n",
    "model_4_pred_probs"
   ]
  },
  {
   "cell_type": "code",
   "execution_count": 85,
   "metadata": {},
   "outputs": [
    {
     "data": {
      "text/plain": [
       "<tf.Tensor: shape=(30212,), dtype=int64, numpy=array([1, 1, 3, ..., 4, 4, 1], dtype=int64)>"
      ]
     },
     "execution_count": 85,
     "metadata": {},
     "output_type": "execute_result"
    }
   ],
   "source": [
    "model_4_preds = tf.argmax(model_4_pred_probs, axis=1)\n",
    "model_4_preds"
   ]
  },
  {
   "cell_type": "code",
   "execution_count": 86,
   "metadata": {},
   "outputs": [
    {
     "data": {
      "text/plain": [
       "{'accuracy': 73.31523897788958,\n",
       " 'precision': 0.7347633588613875,\n",
       " 'recall': 0.7331523897788959,\n",
       " 'f1': 0.730412346327765}"
      ]
     },
     "execution_count": 86,
     "metadata": {},
     "output_type": "execute_result"
    }
   ],
   "source": [
    "model_4_results = calculate_results(y_true=val_labels_label_encode,\n",
    "                                    y_pred=model_4_preds)\n",
    "model_4_results"
   ]
  }
 ],
 "metadata": {
  "kernelspec": {
   "display_name": "tf_gpu",
   "language": "python",
   "name": "python3"
  },
  "language_info": {
   "codemirror_mode": {
    "name": "ipython",
    "version": 3
   },
   "file_extension": ".py",
   "mimetype": "text/x-python",
   "name": "python",
   "nbconvert_exporter": "python",
   "pygments_lexer": "ipython3",
   "version": "3.9.18"
  }
 },
 "nbformat": 4,
 "nbformat_minor": 2
}
